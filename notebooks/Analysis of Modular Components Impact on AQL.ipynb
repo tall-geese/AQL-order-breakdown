{
 "cells": [
  {
   "cell_type": "code",
   "execution_count": 25,
   "id": "norman-insider",
   "metadata": {},
   "outputs": [],
   "source": [
    "import pandas as pd\n",
    "import numpy as np\n",
    "import matplotlib.pyplot as plt\n",
    "%matplotlib inline\n",
    "import seaborn as sns; sns.set(); sns.set_context('paper')\n",
    "import os"
   ]
  },
  {
   "cell_type": "markdown",
   "id": "alike-needle",
   "metadata": {},
   "source": [
    "## 3497 Testing"
   ]
  },
  {
   "cell_type": "code",
   "execution_count": 6,
   "id": "suburban-runner",
   "metadata": {},
   "outputs": [
    {
     "data": {
      "text/html": [
       "<div>\n",
       "<style scoped>\n",
       "    .dataframe tbody tr th:only-of-type {\n",
       "        vertical-align: middle;\n",
       "    }\n",
       "\n",
       "    .dataframe tbody tr th {\n",
       "        vertical-align: top;\n",
       "    }\n",
       "\n",
       "    .dataframe thead th {\n",
       "        text-align: right;\n",
       "    }\n",
       "</style>\n",
       "<table border=\"1\" class=\"dataframe\">\n",
       "  <thead>\n",
       "    <tr style=\"text-align: right;\">\n",
       "      <th></th>\n",
       "      <th>JobNum</th>\n",
       "      <th>LotNum</th>\n",
       "      <th>DrawNum</th>\n",
       "      <th>PartDescription</th>\n",
       "      <th>TranQty</th>\n",
       "      <th>QtyCompleted</th>\n",
       "      <th>PhaseID</th>\n",
       "      <th>OrigProdQty</th>\n",
       "      <th>AQLAmount</th>\n",
       "      <th>AQLforTranQty</th>\n",
       "    </tr>\n",
       "  </thead>\n",
       "  <tbody>\n",
       "    <tr>\n",
       "      <th>0</th>\n",
       "      <td>3497-01-2</td>\n",
       "      <td>NV13007</td>\n",
       "      <td>1751200</td>\n",
       "      <td>5.5 x 50mm Cannulated Cancellous Shank</td>\n",
       "      <td>40.0</td>\n",
       "      <td>68.0</td>\n",
       "      <td>Shank</td>\n",
       "      <td>25.0</td>\n",
       "      <td>13.0</td>\n",
       "      <td>7.647059</td>\n",
       "    </tr>\n",
       "    <tr>\n",
       "      <th>1</th>\n",
       "      <td>3497-01-2</td>\n",
       "      <td>NV13687</td>\n",
       "      <td>1642646</td>\n",
       "      <td>Reline Breakoff Extension</td>\n",
       "      <td>40.0</td>\n",
       "      <td>275.0</td>\n",
       "      <td>Extension</td>\n",
       "      <td>250.0</td>\n",
       "      <td>20.0</td>\n",
       "      <td>2.909091</td>\n",
       "    </tr>\n",
       "    <tr>\n",
       "      <th>2</th>\n",
       "      <td>3497-01-2</td>\n",
       "      <td>NV13727</td>\n",
       "      <td>1642652</td>\n",
       "      <td>Reline MAS Reduction Tulip Base</td>\n",
       "      <td>40.0</td>\n",
       "      <td>274.0</td>\n",
       "      <td>Tulip</td>\n",
       "      <td>250.0</td>\n",
       "      <td>20.0</td>\n",
       "      <td>2.919708</td>\n",
       "    </tr>\n",
       "    <tr>\n",
       "      <th>3</th>\n",
       "      <td>3497-01-2</td>\n",
       "      <td>NV14174</td>\n",
       "      <td>1642661</td>\n",
       "      <td>Reline Poly Load Ring</td>\n",
       "      <td>40.0</td>\n",
       "      <td>1100.0</td>\n",
       "      <td>Load Ring</td>\n",
       "      <td>1000.0</td>\n",
       "      <td>34.0</td>\n",
       "      <td>1.236364</td>\n",
       "    </tr>\n",
       "    <tr>\n",
       "      <th>4</th>\n",
       "      <td>3497-01-2</td>\n",
       "      <td>NV14394</td>\n",
       "      <td>1642666</td>\n",
       "      <td>Reline Clip Ring Flat</td>\n",
       "      <td>44.0</td>\n",
       "      <td>1100.0</td>\n",
       "      <td>Clip/Split Ring</td>\n",
       "      <td>1000.0</td>\n",
       "      <td>34.0</td>\n",
       "      <td>1.360000</td>\n",
       "    </tr>\n",
       "    <tr>\n",
       "      <th>...</th>\n",
       "      <td>...</td>\n",
       "      <td>...</td>\n",
       "      <td>...</td>\n",
       "      <td>...</td>\n",
       "      <td>...</td>\n",
       "      <td>...</td>\n",
       "      <td>...</td>\n",
       "      <td>...</td>\n",
       "      <td>...</td>\n",
       "      <td>...</td>\n",
       "    </tr>\n",
       "    <tr>\n",
       "      <th>105</th>\n",
       "      <td>3497-16-1</td>\n",
       "      <td>NV13786</td>\n",
       "      <td>1642666</td>\n",
       "      <td>Reline Clip Ring Flat</td>\n",
       "      <td>28.0</td>\n",
       "      <td>1045.0</td>\n",
       "      <td>Clip/Split Ring</td>\n",
       "      <td>1000.0</td>\n",
       "      <td>34.0</td>\n",
       "      <td>0.911005</td>\n",
       "    </tr>\n",
       "    <tr>\n",
       "      <th>106</th>\n",
       "      <td>3497-16-1</td>\n",
       "      <td>NV13866</td>\n",
       "      <td>1642646</td>\n",
       "      <td>Reline Breakoff Extension</td>\n",
       "      <td>28.0</td>\n",
       "      <td>275.0</td>\n",
       "      <td>Extension</td>\n",
       "      <td>250.0</td>\n",
       "      <td>20.0</td>\n",
       "      <td>2.036364</td>\n",
       "    </tr>\n",
       "    <tr>\n",
       "      <th>107</th>\n",
       "      <td>3497-16-1</td>\n",
       "      <td>NV13868</td>\n",
       "      <td>1642652</td>\n",
       "      <td>Reline MAS Reduction Tulip Base</td>\n",
       "      <td>28.0</td>\n",
       "      <td>275.0</td>\n",
       "      <td>Tulip</td>\n",
       "      <td>250.0</td>\n",
       "      <td>20.0</td>\n",
       "      <td>2.036364</td>\n",
       "    </tr>\n",
       "    <tr>\n",
       "      <th>108</th>\n",
       "      <td>3497-16-1</td>\n",
       "      <td>NV14391</td>\n",
       "      <td>1642661</td>\n",
       "      <td>Reline Poly Load Ring</td>\n",
       "      <td>28.0</td>\n",
       "      <td>1100.0</td>\n",
       "      <td>Load Ring</td>\n",
       "      <td>1000.0</td>\n",
       "      <td>34.0</td>\n",
       "      <td>0.865455</td>\n",
       "    </tr>\n",
       "    <tr>\n",
       "      <th>109</th>\n",
       "      <td>3497-16-1</td>\n",
       "      <td>NV14456</td>\n",
       "      <td>1751200</td>\n",
       "      <td>10.5 x 50mm Cannulated Cancellous Shank</td>\n",
       "      <td>28.0</td>\n",
       "      <td>28.0</td>\n",
       "      <td>Shank</td>\n",
       "      <td>25.0</td>\n",
       "      <td>13.0</td>\n",
       "      <td>13.000000</td>\n",
       "    </tr>\n",
       "  </tbody>\n",
       "</table>\n",
       "<p>110 rows × 10 columns</p>\n",
       "</div>"
      ],
      "text/plain": [
       "        JobNum   LotNum  DrawNum                          PartDescription  \\\n",
       "0    3497-01-2  NV13007  1751200   5.5 x 50mm Cannulated Cancellous Shank   \n",
       "1    3497-01-2  NV13687  1642646                Reline Breakoff Extension   \n",
       "2    3497-01-2  NV13727  1642652          Reline MAS Reduction Tulip Base   \n",
       "3    3497-01-2  NV14174  1642661                    Reline Poly Load Ring   \n",
       "4    3497-01-2  NV14394  1642666                    Reline Clip Ring Flat   \n",
       "..         ...      ...      ...                                      ...   \n",
       "105  3497-16-1  NV13786  1642666                    Reline Clip Ring Flat   \n",
       "106  3497-16-1  NV13866  1642646                Reline Breakoff Extension   \n",
       "107  3497-16-1  NV13868  1642652          Reline MAS Reduction Tulip Base   \n",
       "108  3497-16-1  NV14391  1642661                    Reline Poly Load Ring   \n",
       "109  3497-16-1  NV14456  1751200  10.5 x 50mm Cannulated Cancellous Shank   \n",
       "\n",
       "     TranQty  QtyCompleted          PhaseID  OrigProdQty  AQLAmount  \\\n",
       "0       40.0          68.0            Shank         25.0       13.0   \n",
       "1       40.0         275.0        Extension        250.0       20.0   \n",
       "2       40.0         274.0            Tulip        250.0       20.0   \n",
       "3       40.0        1100.0        Load Ring       1000.0       34.0   \n",
       "4       44.0        1100.0  Clip/Split Ring       1000.0       34.0   \n",
       "..       ...           ...              ...          ...        ...   \n",
       "105     28.0        1045.0  Clip/Split Ring       1000.0       34.0   \n",
       "106     28.0         275.0        Extension        250.0       20.0   \n",
       "107     28.0         275.0            Tulip        250.0       20.0   \n",
       "108     28.0        1100.0        Load Ring       1000.0       34.0   \n",
       "109     28.0          28.0            Shank         25.0       13.0   \n",
       "\n",
       "     AQLforTranQty  \n",
       "0         7.647059  \n",
       "1         2.909091  \n",
       "2         2.919708  \n",
       "3         1.236364  \n",
       "4         1.360000  \n",
       "..             ...  \n",
       "105       0.911005  \n",
       "106       2.036364  \n",
       "107       2.036364  \n",
       "108       0.865455  \n",
       "109      13.000000  \n",
       "\n",
       "[110 rows x 10 columns]"
      ]
     },
     "execution_count": 6,
     "metadata": {},
     "output_type": "execute_result"
    }
   ],
   "source": [
    "# os.getcwd().replace(\"notebooks\",\"csv\\\\\")\n",
    "df3497 = pd.read_csv(filepath_or_buffer=os.getcwd().replace(\"notebooks\",\"csv\\\\\") + \"3497.csv\", header=0, index_col=False)\n",
    "df3497"
   ]
  },
  {
   "cell_type": "code",
   "execution_count": 20,
   "id": "cathedral-prior",
   "metadata": {},
   "outputs": [
    {
     "data": {
      "image/png": "[encoded data removed]",
      "text/plain": [
       "<Figure size 792x576 with 1 Axes>"
      ]
     },
     "metadata": {},
     "output_type": "display_data"
    }
   ],
   "source": [
    "fig,ax = plt.subplots(figsize=(11,8))\n",
    "ax.yaxis.label.set_visible(False)\n",
    "ax = sns.boxplot(x='AQLforTranQty',y='PhaseID', data=df3497, ax=ax, palette='Blues_r', width=.5 whis=.75)\n",
    "ax = sns.swarmplot(x='AQLforTranQty',y='PhaseID', data=df3497, ax=ax, color='k')"
   ]
  },
  {
   "cell_type": "code",
   "execution_count": 33,
   "id": "italic-wrong",
   "metadata": {},
   "outputs": [
    {
     "data": {
      "image/png": "[encoded data removed]",
      "text/plain": [
       "<Figure size 1080x216 with 5 Axes>"
      ]
     },
     "metadata": {},
     "output_type": "display_data"
    }
   ],
   "source": [
    "with sns.axes_style(style='white'):\n",
    "    grid = sns.FacetGrid(df3497, col='PhaseID',sharey=True, hue='PhaseID', palette=['#FFADAD','#FFD6A5','#B8B2FF','#CAFFBF','#9BF6FF'])\n",
    "    grid.map(plt.hist, 'AQLforTranQty', bins=np.linspace(0,20,15))\n",
    "    "
   ]
  },
  {
   "cell_type": "code",
   "execution_count": 73,
   "id": "alone-curtis",
   "metadata": {},
   "outputs": [],
   "source": [
    "df3497_sorted = df3497.sort_values(by=['PhaseID','AQLforTranQty'],axis=0,ascending=True)\n",
    "\n"
   ]
  },
  {
   "cell_type": "code",
   "execution_count": 75,
   "id": "anticipated-canadian",
   "metadata": {},
   "outputs": [
    {
     "data": {
      "text/plain": [
       "<AxesSubplot:ylabel='AQLforTranQty'>"
      ]
     },
     "execution_count": 75,
     "metadata": {},
     "output_type": "execute_result"
    },
    {
     "data": {
      "image/png": "[encoded data removed]",
      "text/plain": [
       "<Figure size 1080x576 with 1 Axes>"
      ]
     },
     "metadata": {},
     "output_type": "display_data"
    }
   ],
   "source": [
    "\n",
    "fig, ax = plt.subplots(figsize=(15,8))\n",
    "ax.set_facecolor('white')\n",
    "ax.set_xticklabels(labels=[],visible=False)\n",
    "sns.barplot(x=np.arange(0,110,1),y='AQLforTranQty', data=df3497_sorted, hue='PhaseID', \n",
    "            palette=['#233D4D','#FE7F2D','#FCCA46','#A1C181','#619B8A'], ax=ax, dodge=False)"
   ]
  }
 ],
 "metadata": {
  "kernelspec": {
   "display_name": "Python 3",
   "language": "python",
   "name": "python3"
  },
  "language_info": {
   "codemirror_mode": {
    "name": "ipython",
    "version": 3
   },
   "file_extension": ".py",
   "mimetype": "text/x-python",
   "name": "python",
   "nbconvert_exporter": "python",
   "pygments_lexer": "ipython3",
   "version": "3.6.4"
  }
 },
 "nbformat": 4,
 "nbformat_minor": 5
}
